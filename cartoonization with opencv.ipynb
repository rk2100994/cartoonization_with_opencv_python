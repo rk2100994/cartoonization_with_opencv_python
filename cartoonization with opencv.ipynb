{
 "cells": [
  {
   "cell_type": "code",
   "execution_count": 14,
   "metadata": {},
   "outputs": [
    {
     "name": "stdout",
     "output_type": "stream",
     "text": [
      "(782, 1280, 3)\n"
     ]
    }
   ],
   "source": [
    "#Here, we are setting the parameters, reading the image and resizing it\n",
    "import cv2\n",
    "import numpy as np\n",
    "\n",
    "num_down = 2 #number of downsampling steps\n",
    "num_bilateral = 7 #number of bilateral filtering steps\n",
    "\n",
    "img_rgb = cv2.imread(\"car_input.jpg\")\n",
    "print(img_rgb.shape) #prints the dimension of the picture\n",
    "\n",
    "#resizing so as to get optimal results after un sampling is done\n",
    "img_rgb=cv2.resize(img_rgb, (800,800))"
   ]
  },
  {
   "cell_type": "code",
   "execution_count": 15,
   "metadata": {},
   "outputs": [],
   "source": [
    "#Here we are downsampling the image and then applying bilateral filter the mentioned amount of times\n",
    "#donsample image using Gaussian pyramid\n",
    "img_color = img_rgb\n",
    "for _ in range(num_down):\n",
    "    img_color = cv2.pyrDown(img_color)\n",
    "    \n",
    "#repeatedly apply small bilateral filter instead of applying one large filter\n",
    "for _ in range(num_bilateral):\n",
    "    img_color = cv2.bilateralFilter(img_color, d=9, sigmaColor=9, sigmaSpace=7)"
   ]
  },
  {
   "cell_type": "code",
   "execution_count": 16,
   "metadata": {},
   "outputs": [],
   "source": [
    "#In this part, we will unsample, convert the image to grayscale, apply median blur and then thresholding\n",
    "#unsample image to original size\n",
    "for _ in range(num_down):\n",
    "    img_color = cv2.pyrUp(img_color)\n",
    "\n",
    "img_gray = cv2.cvtColor(img_rgb, cv2.COLOR_RGB2GRAY)\n",
    "img_blur = cv2.medianBlur(img_gray, 7)\n",
    "\n",
    "img_edge = cv2.adaptiveThreshold(img_blur, 255, cv2.ADAPTIVE_THRESH_MEAN_C, cv2.THRESH_BINARY, blockSize=9, C=2)"
   ]
  },
  {
   "cell_type": "code",
   "execution_count": 17,
   "metadata": {},
   "outputs": [],
   "source": [
    "#Here we perform 'bitwise AND'\n",
    "#conver back to color, bit-AND with color image\n",
    "img_edge = cv2.cvtColor(img_edge, cv2.COLOR_GRAY2RGB)\n",
    "img_cartoon = cv2.bitwise_and(img_color, img_edge)"
   ]
  },
  {
   "cell_type": "code",
   "execution_count": 18,
   "metadata": {},
   "outputs": [
    {
     "data": {
      "text/plain": [
       "True"
      ]
     },
     "execution_count": 18,
     "metadata": {},
     "output_type": "execute_result"
    }
   ],
   "source": [
    "#saving the image with modified changes\n",
    "stack=np.hstack([img_rgb, img_cartoon])\n",
    "cv2.imwrite('cartoon_car_image.jpg',stack)\n",
    "# cv2.imshow('Stacked Images', stack)\n",
    "# cv2.imshow(\"cartoon\",img_cartoon)"
   ]
  },
  {
   "cell_type": "code",
   "execution_count": null,
   "metadata": {},
   "outputs": [],
   "source": []
  }
 ],
 "metadata": {
  "kernelspec": {
   "display_name": "Python 3",
   "language": "python",
   "name": "python3"
  },
  "language_info": {
   "codemirror_mode": {
    "name": "ipython",
    "version": 3
   },
   "file_extension": ".py",
   "mimetype": "text/x-python",
   "name": "python",
   "nbconvert_exporter": "python",
   "pygments_lexer": "ipython3",
   "version": "3.7.4"
  }
 },
 "nbformat": 4,
 "nbformat_minor": 4
}
